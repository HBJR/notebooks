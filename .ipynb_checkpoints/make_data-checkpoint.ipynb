{
 "cells": [
  {
   "cell_type": "code",
   "execution_count": 1,
   "id": "dfd2bf45-83ed-4941-8f83-399f48f3c313",
   "metadata": {},
   "outputs": [],
   "source": [
    "import pandas as pd\n",
    "import numpy as np\n",
    "from pathlib import Path"
   ]
  },
  {
   "cell_type": "markdown",
   "id": "9c6c0ecc-0c3e-477c-8061-742b745bef17",
   "metadata": {},
   "source": [
    "Blah blah\n",
    "\n",
    "Words words words"
   ]
  },
  {
   "cell_type": "code",
   "execution_count": 2,
   "id": "9c511197-eb72-44bd-a35e-e7860bc6d138",
   "metadata": {},
   "outputs": [],
   "source": [
    "data_dir = Path().cwd().parent / \"data\""
   ]
  },
  {
   "cell_type": "code",
   "execution_count": 11,
   "id": "e30cbc28-ddff-484c-bdca-0aff8ed3a320",
   "metadata": {},
   "outputs": [],
   "source": [
    "def file_load(file_path):\n",
    "    temp_dict = {\"speech_id\":[], \"speech\":[]}\n",
    "    with open(file_path, 'r', encoding=\"ansi\") as file:\n",
    "        for i, line in enumerate(file):\n",
    "            if i == 0: continue\n",
    "            ls = line.split('|')\n",
    "            ls[1] = ls[1].replace(\"\\n\",\"\")\n",
    "            ls[1] = ls[1].replace(\"\\t\", \"\")\n",
    "            temp_dict[\"speech_id\"].append(int(ls[0]))\n",
    "            temp_dict[\"speech\"].append(ls[1])\n",
    "    return temp_dict\n"
   ]
  },
  {
   "cell_type": "code",
   "execution_count": 12,
   "id": "bf28bc5e-f2b6-424d-ada4-57797cfec22c",
   "metadata": {},
   "outputs": [
    {
     "data": {
      "text/html": [
       "<div>\n",
       "<style scoped>\n",
       "    .dataframe tbody tr th:only-of-type {\n",
       "        vertical-align: middle;\n",
       "    }\n",
       "\n",
       "    .dataframe tbody tr th {\n",
       "        vertical-align: top;\n",
       "    }\n",
       "\n",
       "    .dataframe thead th {\n",
       "        text-align: right;\n",
       "    }\n",
       "</style>\n",
       "<table border=\"1\" class=\"dataframe\">\n",
       "  <thead>\n",
       "    <tr style=\"text-align: right;\">\n",
       "      <th></th>\n",
       "      <th>speech_id</th>\n",
       "      <th>speech</th>\n",
       "    </tr>\n",
       "  </thead>\n",
       "  <tbody>\n",
       "    <tr>\n",
       "      <th>0</th>\n",
       "      <td>980000001</td>\n",
       "      <td>The Chair lays before the Senate the certifica...</td>\n",
       "    </tr>\n",
       "    <tr>\n",
       "      <th>1</th>\n",
       "      <td>980000002</td>\n",
       "      <td>1982.</td>\n",
       "    </tr>\n",
       "    <tr>\n",
       "      <th>2</th>\n",
       "      <td>980000003</td>\n",
       "      <td>The 33 Senatorselect will now present themselv...</td>\n",
       "    </tr>\n",
       "    <tr>\n",
       "      <th>3</th>\n",
       "      <td>980000004</td>\n",
       "      <td>respectively. advanced to the desk of the Vice...</td>\n",
       "    </tr>\n",
       "    <tr>\n",
       "      <th>4</th>\n",
       "      <td>980000005</td>\n",
       "      <td>respectively. advanced to the desk of the Vice...</td>\n",
       "    </tr>\n",
       "    <tr>\n",
       "      <th>...</th>\n",
       "      <td>...</td>\n",
       "      <td>...</td>\n",
       "    </tr>\n",
       "    <tr>\n",
       "      <th>280283</th>\n",
       "      <td>980280284</td>\n",
       "      <td>Mr. Speaker. I rise to pay tribute to a man wh...</td>\n",
       "    </tr>\n",
       "    <tr>\n",
       "      <th>280284</th>\n",
       "      <td>980280285</td>\n",
       "      <td>Mr. Speaker. during the last months two great ...</td>\n",
       "    </tr>\n",
       "    <tr>\n",
       "      <th>280285</th>\n",
       "      <td>980280286</td>\n",
       "      <td>Mr. Speaker. I am proud to join with members o...</td>\n",
       "    </tr>\n",
       "    <tr>\n",
       "      <th>280286</th>\n",
       "      <td>980280287</td>\n",
       "      <td>Mr. Speaker. due to a previous commitment with...</td>\n",
       "    </tr>\n",
       "    <tr>\n",
       "      <th>280287</th>\n",
       "      <td>980280288</td>\n",
       "      <td>ILLUSTRATIONs.-Maps. diagrams. or illustratfon...</td>\n",
       "    </tr>\n",
       "  </tbody>\n",
       "</table>\n",
       "<p>280288 rows × 2 columns</p>\n",
       "</div>"
      ],
      "text/plain": [
       "        speech_id                                             speech\n",
       "0       980000001  The Chair lays before the Senate the certifica...\n",
       "1       980000002                                              1982.\n",
       "2       980000003  The 33 Senatorselect will now present themselv...\n",
       "3       980000004  respectively. advanced to the desk of the Vice...\n",
       "4       980000005  respectively. advanced to the desk of the Vice...\n",
       "...           ...                                                ...\n",
       "280283  980280284  Mr. Speaker. I rise to pay tribute to a man wh...\n",
       "280284  980280285  Mr. Speaker. during the last months two great ...\n",
       "280285  980280286  Mr. Speaker. I am proud to join with members o...\n",
       "280286  980280287  Mr. Speaker. due to a previous commitment with...\n",
       "280287  980280288  ILLUSTRATIONs.-Maps. diagrams. or illustratfon...\n",
       "\n",
       "[280288 rows x 2 columns]"
      ]
     },
     "execution_count": 12,
     "metadata": {},
     "output_type": "execute_result"
    }
   ],
   "source": [
    "pd.DataFrame.from_dict(file_load(data_dir / \"hein-daily/speeches_098.txt\"))"
   ]
  },
  {
   "cell_type": "code",
   "execution_count": 100,
   "id": "926d9d88-8a4c-4389-91ad-8a7cde29d05f",
   "metadata": {},
   "outputs": [],
   "source": [
    "speeches_103 = pd.DataFrame.from_dict(file_load(data_dir / \"hein-daily/speeches_103.txt\"))\n",
    "speeches_104 = pd.DataFrame.from_dict(file_load(data_dir / \"hein-daily/speeches_104.txt\"))\n",
    "speeches_105 = pd.DataFrame.from_dict(file_load(data_dir / \"hein-daily/speeches_105.txt\"))\n",
    "speeches_106 = pd.DataFrame.from_dict(file_load(data_dir / \"hein-daily/speeches_106.txt\"))\n",
    "speeches_107 = pd.DataFrame.from_dict(file_load(data_dir / \"hein-daily/speeches_107.txt\"))"
   ]
  },
  {
   "cell_type": "code",
   "execution_count": 101,
   "id": "43abf224-53ad-47aa-acac-117cbfe3cc77",
   "metadata": {},
   "outputs": [],
   "source": [
    "speakers_103 = pd.read_csv(data_dir / \"hein-daily/103_SpeakerMap.txt\", delimiter=\"|\", encoding=\"ANSI\", on_bad_lines='skip')\n",
    "speakers_104 = pd.read_csv(data_dir / \"hein-daily/104_SpeakerMap.txt\", delimiter=\"|\", encoding=\"ANSI\", on_bad_lines='skip')\n",
    "speakers_105 = pd.read_csv(data_dir / \"hein-daily/105_SpeakerMap.txt\", delimiter=\"|\", encoding=\"ANSI\", on_bad_lines='skip')\n",
    "speakers_106 = pd.read_csv(data_dir / \"hein-daily/106_SpeakerMap.txt\", delimiter=\"|\", encoding=\"ANSI\", on_bad_lines='skip')\n",
    "speakers_107 = pd.read_csv(data_dir / \"hein-daily/107_SpeakerMap.txt\", delimiter=\"|\", encoding=\"ANSI\", on_bad_lines='skip')"
   ]
  },
  {
   "cell_type": "code",
   "execution_count": 102,
   "id": "7701cc67-d233-4c11-b8e1-dd97ae6db204",
   "metadata": {},
   "outputs": [],
   "source": [
    "merged_103 = speeches_103.merge(speakers_103, how=\"inner\", on=\"speech_id\").dropna()\n",
    "merged_104 = speeches_104.merge(speakers_104, how=\"inner\", on=\"speech_id\").dropna()\n",
    "merged_105 = speeches_105.merge(speakers_105, how=\"inner\", on=\"speech_id\").dropna()\n",
    "merged_106 = speeches_106.merge(speakers_106, how=\"inner\", on=\"speech_id\").dropna()\n",
    "merged_107 = speeches_107.merge(speakers_107, how=\"inner\", on=\"speech_id\").dropna()"
   ]
  },
  {
   "cell_type": "code",
   "execution_count": 103,
   "id": "6ed611fe-bafa-4c8f-a48c-0b250454bf9c",
   "metadata": {},
   "outputs": [],
   "source": [
    "house_103 = merged_103[merged_103[\"chamber\"] == \"H\"]\n",
    "house_104 = merged_104[merged_104[\"chamber\"] == \"H\"]\n",
    "house_105 = merged_105[merged_105[\"chamber\"] == \"H\"]\n",
    "house_106 = merged_106[merged_106[\"chamber\"] == \"H\"]\n",
    "house_107 = merged_107[merged_107[\"chamber\"] == \"H\"]"
   ]
  },
  {
   "cell_type": "code",
   "execution_count": 104,
   "id": "f55d4068-44e8-4866-8fb0-d7ccfa67c72c",
   "metadata": {},
   "outputs": [],
   "source": [
    "house_103[\"congress\"] = \"103\"\n",
    "house_104[\"congress\"] = \"104\"\n",
    "house_105[\"congress\"] = \"105\"\n",
    "house_106[\"congress\"] = \"106\"\n",
    "house_107[\"congress\"] = \"107\""
   ]
  },
  {
   "cell_type": "code",
   "execution_count": 105,
   "id": "ca0a67ff-4b8e-4bca-98db-0d9024c6c3e4",
   "metadata": {},
   "outputs": [],
   "source": [
    "final_df = pd.concat([house_103, house_104, house_105, house_106, house_107], ignore_index=True)"
   ]
  },
  {
   "cell_type": "code",
   "execution_count": 106,
   "id": "04492010-0811-44b2-a3a1-d792c62ac3ff",
   "metadata": {},
   "outputs": [],
   "source": [
    "final_df.to_csv(data_dir / \"house_103_to_107.txt\", sep=\"\\t\", index=False)"
   ]
  },
  {
   "cell_type": "code",
   "execution_count": 107,
   "id": "947e6bf6-1d29-4eb4-bc8b-eeae2c04fb1a",
   "metadata": {},
   "outputs": [],
   "source": [
    "speakers_df = pd.concat([speakers_103, speakers_104, speakers_105, speakers_106, speakers_107], ignore_index=True)\n",
    "\n",
    "speakers_df = speakers_df[speakers_df[\"chamber\"] == \"H\"].reset_index(drop=True)\n",
    "\n",
    "speakers_df = speakers_df[[\"speakerid\", \"lastname\", \"firstname\", \"state\", \"district\"]]\n",
    "\n",
    "speakers_df[\"speakerid\"] = speakers_df[\"speakerid\"].map(str)\n",
    "\n",
    "speakers_df = speakers_df.drop_duplicates(ignore_index=True)"
   ]
  },
  {
   "cell_type": "code",
   "execution_count": 108,
   "id": "0cd0b364-26d2-4806-9a4d-d9d971ae5824",
   "metadata": {},
   "outputs": [],
   "source": [
    "speakers_df.to_csv(data_dir / \"speakers_df.csv\", index=False)"
   ]
  }
 ],
 "metadata": {
  "kernelspec": {
   "display_name": "new_env",
   "language": "python",
   "name": "new_env"
  },
  "language_info": {
   "codemirror_mode": {
    "name": "ipython",
    "version": 3
   },
   "file_extension": ".py",
   "mimetype": "text/x-python",
   "name": "python",
   "nbconvert_exporter": "python",
   "pygments_lexer": "ipython3",
   "version": "3.9.16"
  }
 },
 "nbformat": 4,
 "nbformat_minor": 5
}
