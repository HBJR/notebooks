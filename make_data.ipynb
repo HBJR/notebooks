{
 "cells": [
  {
   "cell_type": "code",
   "execution_count": 1,
   "id": "dfd2bf45-83ed-4941-8f83-399f48f3c313",
   "metadata": {},
   "outputs": [],
   "source": [
    "import pandas as pd\n",
    "import numpy as np\n",
    "from pathlib import Path"
   ]
  },
  {
   "cell_type": "code",
   "execution_count": 2,
   "id": "9c511197-eb72-44bd-a35e-e7860bc6d138",
   "metadata": {},
   "outputs": [],
   "source": [
    "data_dir = Path().cwd().parent / \"data\""
   ]
  },
  {
   "cell_type": "code",
   "execution_count": 3,
   "id": "e30cbc28-ddff-484c-bdca-0aff8ed3a320",
   "metadata": {},
   "outputs": [],
   "source": [
    "def file_load(file_path):\n",
    "    temp_dict = {\"speech_id\":[], \"speech\":[]}\n",
    "    with open(file_path, 'r', encoding=\"ansi\") as file:\n",
    "        for i, line in enumerate(file):\n",
    "            if i == 0: continue\n",
    "            ls = line.split('|')\n",
    "            ls[1] = ls[1].replace(\"\\n\",\"\")\n",
    "            ls[1] = ls[1].replace(\"\\t\", \"\")\n",
    "            temp_dict[\"speech_id\"].append(int(ls[0]))\n",
    "            temp_dict[\"speech\"].append(ls[1])\n",
    "    return pd.DataFrame.from_dict(temp_dict)\n"
   ]
  },
  {
   "cell_type": "code",
   "execution_count": 4,
   "id": "3a414d1a-86fa-4036-a6b1-3764c672ee62",
   "metadata": {},
   "outputs": [],
   "source": [
    "congresses = [102, 103, 104, 105, 106, 107, 108]"
   ]
  },
  {
   "cell_type": "code",
   "execution_count": 5,
   "id": "ded574cc-a47a-4bd0-b3bb-f66da6968cc3",
   "metadata": {},
   "outputs": [],
   "source": [
    "df_list = []\n",
    "speakers_df_list = []\n",
    "\n",
    "for congress in congresses: \n",
    "    speeches = file_load(data_dir / f\"hein-daily/speeches_{congress}.txt\")\n",
    "    speakers = pd.read_csv(data_dir / f\"hein-daily/{congress}_SpeakerMap.txt\", delimiter=\"|\", encoding=\"ANSI\")\n",
    "    \n",
    "    merged = speeches.merge(speakers, how=\"inner\", on=\"speech_id\").dropna()\n",
    "    \n",
    "    house = merged[(merged[\"chamber\"] == \"H\") & (merged[\"nonvoting\"] == \"voting\")].copy()\n",
    "    \n",
    "    house[\"congress\"] = str(congress)\n",
    "    \n",
    "    df_list.append(house)\n",
    "    speakers_df_list.append(speakers)"
   ]
  },
  {
   "cell_type": "code",
   "execution_count": 6,
   "id": "ca0a67ff-4b8e-4bca-98db-0d9024c6c3e4",
   "metadata": {},
   "outputs": [],
   "source": [
    "final_df = pd.concat(df_list, ignore_index=True)"
   ]
  },
  {
   "cell_type": "code",
   "execution_count": 8,
   "id": "04492010-0811-44b2-a3a1-d792c62ac3ff",
   "metadata": {},
   "outputs": [],
   "source": [
    "final_df.to_csv(data_dir / \"house_102_to_108.txt\", sep=\"\\t\", index=False)"
   ]
  },
  {
   "cell_type": "code",
   "execution_count": null,
   "id": "947e6bf6-1d29-4eb4-bc8b-eeae2c04fb1a",
   "metadata": {},
   "outputs": [],
   "source": [
    "speakers_df = pd.concat(speakers_df_list, ignore_index=True)\n",
    "\n",
    "speakers_df = speakers_df[speakers_df[\"chamber\"] == \"H\"].reset_index(drop=True)\n",
    "\n",
    "speakers_df = speakers_df[[\"speakerid\", \"lastname\", \"firstname\", \"state\", \"district\"]]\n",
    "\n",
    "speakers_df[\"speakerid\"] = speakers_df[\"speakerid\"].map(str)\n",
    "\n",
    "speakers_df = speakers_df.drop_duplicates(ignore_index=True)"
   ]
  },
  {
   "cell_type": "code",
   "execution_count": null,
   "id": "0cd0b364-26d2-4806-9a4d-d9d971ae5824",
   "metadata": {},
   "outputs": [],
   "source": [
    "speakers_df.to_csv(data_dir / \"speakers_102_to_108.csv\", index=False)"
   ]
  }
 ],
 "metadata": {
  "kernelspec": {
   "display_name": "new_env",
   "language": "python",
   "name": "new_env"
  },
  "language_info": {
   "codemirror_mode": {
    "name": "ipython",
    "version": 3
   },
   "file_extension": ".py",
   "mimetype": "text/x-python",
   "name": "python",
   "nbconvert_exporter": "python",
   "pygments_lexer": "ipython3",
   "version": "3.9.16"
  }
 },
 "nbformat": 4,
 "nbformat_minor": 5
}
